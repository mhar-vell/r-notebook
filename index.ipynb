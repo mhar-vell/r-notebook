{
 "cells": [
  {
   "cell_type": "markdown",
   "metadata": {},
   "source": [
    "R Code pulled from https://www.statmethods.net/advgraphs/ggplot2.html"
   ]
  },
  {
   "cell_type": "markdown",
   "metadata": {},
   "source": [
    "# <span style=\"color:green\">Método BiLi - Hands On</span>"
   ]
  },
  {
   "cell_type": "markdown",
   "metadata": {},
   "source": [
    "Otim"
   ]
  },
  {
   "cell_type": "markdown",
   "metadata": {},
   "source": [
    "## <span style=\"color:cyan\">O ciclo INGÊNUO</span>"
   ]
  },
  {
   "cell_type": "code",
   "execution_count": null,
   "metadata": {
    "vscode": {
     "languageId": "r"
    }
   },
   "outputs": [],
   "source": [
    "library(bibliometrix)\n",
    "biblioshiny()"
   ]
  },
  {
   "cell_type": "code",
   "execution_count": null,
   "metadata": {
    "vscode": {
     "languageId": "r"
    }
   },
   "outputs": [],
   "source": [
    "library(remotes)\n",
    "install_github(\"elizagrames/litsearchr\", ref = \"main\")\n",
    "library(litsearchr)\n",
    "packageVersion(\"litsearchr\")"
   ]
  },
  {
   "cell_type": "markdown",
   "metadata": {},
   "source": [
    "### <span style=\"color:pink\">Importando os dados</span>\n",
    "No início busca-se utilizar uma string ingênua de busca para obter um conjunto de artigos relevantes para a pesquisa.\n",
    "\n",
    "Para limitar a quantidade de artigos, opta-se por restringir o intervalo em 6 a 5 anos do presente ano: Conference papers e articles na língua inglesa.\n",
    "\n",
    "As buscas podem ser realizadas nas bases de dados WEb of Science, Compendex, IEEE e Scopus"
   ]
  },
  {
   "cell_type": "code",
   "execution_count": null,
   "metadata": {
    "vscode": {
     "languageId": "r"
    }
   },
   "outputs": [],
   "source": [
    "search_directory <- \"/path/with/data.bib\""
   ]
  },
  {
   "cell_type": "markdown",
   "metadata": {},
   "source": [
    "Ao importar os dados das bases, sugere-se adicionar todas em um único diretório.\n",
    "E dessa forma, criando um dataset único."
   ]
  },
  {
   "cell_type": "code",
   "execution_count": null,
   "metadata": {
    "vscode": {
     "languageId": "r"
    }
   },
   "outputs": [],
   "source": [
    "naiveimport <- litsearchr::import_results(directory = search_directory, verbose = TRUE)"
   ]
  },
  {
   "cell_type": "markdown",
   "metadata": {},
   "source": [
    "### <span style=\"color:pink\">Remoção dos trabalhos duplicados</span>\n",
    "Em algumas situações, os dados podem estar duplicados, logo sugere-se a remoção dos mesmos."
   ]
  },
  {
   "cell_type": "code",
   "execution_count": null,
   "metadata": {
    "vscode": {
     "languageId": "r"
    }
   },
   "outputs": [],
   "source": [
    "naiveresults <- litsearchr::remove_duplicates(naiveimport, field = \"title\", method = \"string_osa\")"
   ]
  },
  {
   "cell_type": "markdown",
   "metadata": {},
   "source": [
    "Importação das \"stop words\" pré-definidas e adição de uma lista de \"stop words\" criadas"
   ]
  },
  {
   "cell_type": "code",
   "execution_count": null,
   "metadata": {
    "vscode": {
     "languageId": "r"
    }
   },
   "outputs": [],
   "source": [
    "stopworlds <- c(\"advances\",\"analyse\",\"analysed\",\"analyses\",\n",
    "               \"analysing\",\"analysis\",\"analyze\",\"analyzes\",\n",
    "               \"analyzed\",\"analyzing\", \"approach\", \"assess\",\"assessed\",\n",
    "               \"assesses\",\"assessing\",\"assessment\",\"assessments\",\n",
    "               \"benefit\",\"based\",\"benefits\",\"change\",\n",
    "               \"changed\",\"changes\",\"changing\",\"characteristic\",\n",
    "               \"characteristics\",\"characterize\",\"characterized\",\"characterizes\",\n",
    "               \"characterizing\",\"clinical\",\"cluster\",\"combine\",\n",
    "               \"combined\",\"combines\",\"combining\",\"comorbid\",\n",
    "               \"comorbidity\",\"compare\",\"compared\",\"compares\",\n",
    "               \"comparing\",\"comparison\",\"conference\",\"control\",\"controlled\",\n",
    "               \"controlling\",\"controls\", \"dataset\", \"design\",\"designed\",\n",
    "               \"designing\",\"effect\",\"effective\",\"effectiveness\",\n",
    "               \"effects\",\"efficacy\",\"feasible\",\"feasibility\",\n",
    "               \"follow\",\"followed\",\"following\",\"follows\",\n",
    "               \"group\",\"groups\",\"impact\",\"intervention\",\n",
    "               \"interventions\",\"longitudinal\", \"method\", \"moderate\",\"moderated\",\n",
    "               \"moderates\",\"moderating\",\"moderator\",\"moderators\",\n",
    "               \"outcome\",\"outcomes\", \"paper\", \"patient\",\"patients\",\n",
    "               \"people\",\"pilot\",\"practice\",\"predict\",\n",
    "               \"predicted\",\"predicting\",\"predictor\",\"predictors\",\n",
    "               \"predicts\",\"preliminary\", \"presents\", \"primary\", \"proposed\", \"proposes\", \"protocol\",\n",
    "               \"quality\",\"random\",\"randomise\",\"randomised\",\n",
    "               \"randomising\",\"randomize\",\"randomized\",\"randomizing\",\n",
    "               \"rationale\",\"reduce\",\"reduced\",\"reduces\",\n",
    "               \"reducing\",\"related\",\"report\",\"reported\",\n",
    "               \"reporting\",\"reports\",\"response\",\"responses\",\n",
    "               \"result\",\"resulted\",\"resulting\",\"results\",\n",
    "               \"review\",\"studied\",\"studies\",\"study\",\n",
    "               \"studying\",\"systematic\",\"treat\",\"treated\",\n",
    "               \"treating\",\"treatment\",\"treatments\",\"treats\",\n",
    "               \"trial\",\"trials\",\"versus\")\n",
    "\n",
    "all_stopwords <- c(get_stopwords(\"English\"), stopworlds)"
   ]
  },
  {
   "cell_type": "code",
   "execution_count": null,
   "metadata": {
    "vscode": {
     "languageId": "r"
    }
   },
   "outputs": [],
   "source": [
    "######### Construção da rede de co-ocorrência de palavras-chave\n",
    "\n",
    "# Ainda existem alguns termos que não estão relacionados aos outros e ao tópico de interesse. \n",
    "# Isso talvez ocorra apenas em um pequeno número de artigos que não mencionam muitos dos \n",
    "# outros termos de pesquisa. É necessário uma forma sistemática de identificar esses termos \n",
    "# de pesquisa \"isolados\".\n",
    "\n",
    "# Uma maneira de fazer isso é analisar os termos de pesquisa como uma rede. \n",
    "# A ideia por trás disso é que os termos estão ligados entre si em virtude de aparecerem \n",
    "# nos mesmos artigos. Descobrindo quais termos tendem a ocorrer juntos no mesmo \n",
    "# artigo, pode-se selecionar grupos de termos que provavelmente se referem ao mesmo tópico \n",
    "# e filtrar os termos que não costumam ocorrer junto com qualquer um dos grupos principais \n",
    "# de termos.\n",
    "\n",
    "\n",
    "# Junta todas as keywords obtidas\n",
    "all_keywords <- unique(append(taggedkeywords, rakedkeywords))\n",
    "\n",
    "\n",
    "# O título e o resumo de cada artigo serão definidos como o \"conteúdo\" de cada artigo e \n",
    "# conta-se um termo como tendo ocorrido naquele artigo se for encontrado no título ou no \n",
    "# resumo. \n",
    "\n",
    "\n",
    "# Cria uma ‘document-feature matrix’, uma matriz que registra quais termos aparecem em \n",
    "# quais artigos. ‘DFM’ significa ‘matriz de features de documentos’, onde ‘documentos’ \n",
    "# são os artigos e ‘features’ são os termos de pesquisa. \n",
    "\n",
    "# As linhas da matriz representam os artigos (seus títulos e resumos) e as colunas \n",
    "# representam os termos de pesquisa.\n",
    "\n",
    "naivedfm <-\n",
    "  litsearchr::create_dfm(\n",
    "    elements = paste(naiveresults$title, naiveresults$abstract),\n",
    "    features = all_keywords\n",
    "  )\n",
    "\n",
    "# Transforma a matriz em uma rede de termos de pesquisa vinculados para facilitar a \n",
    "# visualização das relações entre os termos e a avaliação de sua importância. \n",
    "\n",
    "naivegraph <-\n",
    "  litsearchr::create_network(\n",
    "    search_dfm = naivedfm,\n",
    "    min_studies = 10,\n",
    "    min_occ = 10\n",
    "  )\n",
    "\n",
    "# Plotagem da rede\n",
    "ggraph(naivegraph, layout=\"stress\") +\n",
    "  coord_fixed() +\n",
    "  expand_limits(x=c(-3, 3)) +\n",
    "  geom_edge_link(aes(alpha=weight)) +\n",
    "  geom_node_point(shape=\"circle filled\", fill=\"white\") +\n",
    "  geom_node_text(aes(label=name), hjust=\"outward\", check_overlap=TRUE) +\n",
    "  guides(edge_alpha=FALSE)\n",
    "\n",
    "\n",
    "\n",
    "######### Ranking de importancia das palavras chave\n",
    "\n",
    "# Podemos usar a relação força como uma forma de identificar termos importantes. \n",
    "\n",
    "# Utiliza-se a rede para classificar os termos de pesquisa por importância, com o objetivo \n",
    "# de eliminar alguns dos menos importantes. A \"força\" de cada termo na rede é o número de \n",
    "# outros termos com os quais ele aparece junto.\n",
    "\n",
    "strengths <- strength(naivegraph)\n",
    "\n",
    "# No topo estão os termos mais fracamente vinculados aos outros. Para alguns deles  \n",
    "# pode-se comparar isso com as posições na visualização do gráfico, onde aparecem perto \n",
    "# das margens da figura.\n",
    "\n",
    "data.frame(term=names(strengths), strength=strengths, row.names=NULL) %>%\n",
    "  mutate(rank=rank(strength, ties.method=\"min\")) %>%\n",
    "  arrange(strength) ->\n",
    "  term_strengths\n",
    "\n",
    "term_strengths\n",
    "\n",
    "# Plotagem da distribuição de \"força\" dos termos\n",
    "\n",
    "# A figura mostra os termos em ordem crescente de \"força\" da esquerda para a direita. \n",
    "cutoff_fig <- ggplot(term_strengths, aes(x=rank, y=strength, label=term)) +\n",
    "  geom_line() +\n",
    "  geom_point() +\n",
    "  geom_text(data=filter(term_strengths, rank>5), hjust=\"right\", nudge_y=20, check_overlap=TRUE)\n",
    "\n",
    "cutoff_fig\n",
    "\n",
    "\n",
    "# Busca-se todos os termos acima de algum ponto de corte de importância e não deve-se \n",
    "# considerar os termos na na parte de baixo da distribuição.\n",
    "\n",
    "# Uma maneira simples de decidir sobre um corte é escolher reter uma certa proporção da \n",
    "# \"força\" total da rede de termos de pesquisa, utilizando termos que representem uma \n",
    "# importância total de 80% na rede.\n",
    "\n",
    "cutoff_cum <- find_cutoff(naivegraph, method=\"cumulative\", percent=0.8)\n",
    "\n",
    "cutoff_cum\n",
    "\n",
    "# Plota a figura\n",
    "cutoff_fig +\n",
    "  geom_hline(yintercept=cutoff_cum, linetype=\"dashed\")\n",
    "\n",
    "# Uma vez encontrado um valor de corte, é necessário remover os termos com baixa \n",
    "# intensidade. \n",
    "\n",
    "get_keywords(reduce_graph(naivegraph, cutoff_cum))\n",
    "\n",
    "\n",
    "\n",
    "######### Changepoints\n",
    "\n",
    "# Existem certos pontos ao longo da classificação de termos onde a \"força\" do próximo termo \n",
    "# mais forte é muito maior do que a do anterior. Esses locais são chamados de pontos de \n",
    "# corte, uma vez que os termos abaixo deles têm \"força\" muito menor do que os que estão \n",
    "# acima.\n",
    "\n",
    "cutoff_change <- find_cutoff(naivegraph, method=\"changepoint\", knot_num=3)\n",
    "\n",
    "cutoff_change\n",
    "\n",
    "# Plota a figura\n",
    "cutoff_fig +\n",
    "  geom_hline(yintercept=cutoff_change, linetype=\"dashed\")"
   ]
  },
  {
   "cell_type": "code",
   "execution_count": null,
   "metadata": {
    "vscode": {
     "languageId": "r"
    }
   },
   "outputs": [],
   "source": [
    "# Então, pode-se escolher um dos pontos de corte no vetor de termos.\n",
    "\n",
    "\n",
    "g_redux <- reduce_graph(naivegraph, cutoff_change[1])\n",
    "selected_terms <- get_keywords(g_redux)\n",
    "\n",
    "selected_terms\n",
    "\n",
    "\n",
    "\n",
    "######### Agrupando termos\n",
    "\n",
    "# Agora que existe uma lista revisada de termos de pesquisa a partir dos resultados \n",
    "# da pesquisa ingênua, é necessário transformá-los em uma nova busca utilizada para \n",
    "# obter mais artigos relevantes para o mesmo tópico.\n",
    "\n",
    "# Existem métodos para agrupar redes automaticamente em clusters, mas nem sempre são \n",
    "# tão confiáveis. A documentação do litsearchr recomenda fazer esta etapa manualmente. \n",
    "\n",
    "# Analisando termos de pesquisa e os colocando em uma lista de vetores separados, \n",
    "# um para cada subtópico.\n",
    "\n",
    "\n",
    "grouped_terms <-list(\n",
    "  manipulator=selected_terms[c(5, 11, 16, 17, 19, 21, 22, 23, 25, 27)],\n",
    "  underwater=selected_terms[c(10, 11, 13, 12, 15)],\n",
    "  techniques=selected_terms[c(2, 3, 6, 9, 8)]\n",
    "  manipulator=selected_terms[c(31, 32, 27, 37, 79, 95, 94)],\n",
    "  underwater=selected_terms[c(28, 39)],\n",
    "  techniques=selected_terms[c(4, 5, 14, 15, 16)]\n",
    ")\n",
    "\n",
    "grouped_terms\n",
    "\n",
    "# A função write_search () pega nossa lista de termos de pesquisa agrupados e escreve o \n",
    "# texto de uma nova pesquisa. \n",
    "write_search(\n",
    "  grouped_terms,\n",
    "  languages=\"English\",\n",
    "  exactphrase=TRUE,\n",
    "  stemming=FALSE,\n",
    "  closure=\"left\",\n",
    "  writesearch=TRUE\n",
    ")"
   ]
  },
  {
   "cell_type": "markdown",
   "metadata": {},
   "source": [
    "## <span style=\"color:cyan\">O ciclo OTIMIZADO</span>"
   ]
  },
  {
   "cell_type": "code",
   "execution_count": null,
   "metadata": {
    "vscode": {
     "languageId": "r"
    }
   },
   "outputs": [],
   "source": [
    "library(bibliometrix)\n",
    "biblioshiny()"
   ]
  },
  {
   "cell_type": "code",
   "execution_count": null,
   "metadata": {
    "vscode": {
     "languageId": "r"
    }
   },
   "outputs": [],
   "source": [
    "########## Verificando o novo resultado\n",
    "\n",
    "# Carregndo o resultado\n",
    "\n",
    "# As buscas foram realizadas nas bases de dados Compendex, IEEE e Scopus\n",
    "new_search_directory <- \"/home/anderson/Documentos/MinicursoBili/bir-mini-method-bili/code/litsearchr/example\"\n",
    "\n",
    "# Importa os dados das três bases, formando um único dataset\n",
    "new_results <-\n",
    "  litsearchr::import_results(directory = new_search_directory, verbose = TRUE)\n",
    "\n",
    "# Remove os trabalhos duplicados\n",
    "new_results <-\n",
    "  litsearchr::remove_duplicates(naiveimport, field = \"title\", method = \"string_osa\")\n",
    "\n",
    "# Agora é necessário verificar se os novos resultados parecem ser relevantes para o \n",
    "# tópico escolhido.\n",
    "\n",
    "# Primeiro verifica-se se todos os resultados da pesquisa ingênua estão na nova \n",
    "# pesquisa. Uma vez que a pesquisa ingênua foi conduzida usando os termos mais importantes \n",
    "# para o tópico, e como esses mesmos termos ou outros muito semelhantes foram \n",
    "# incluídos na nova pesquisa, deve-se obter os mesmos artigos de volta entre \n",
    "# os novos resultados.\n",
    "\n",
    "naiveresults %>%\n",
    "  mutate(in_new_results=title %in% new_results[, \"title\"]) ->\n",
    "  naiveresults\n",
    "\n",
    "naiveresults %>%\n",
    "  filter(!in_new_results) %>%\n",
    "  select(title, keywords)\n",
    "\n",
    "\n",
    "# Se começou-se a revisar a literatura sobre o tema escolhido, pode-se já saber os \n",
    "# títulos de alguns artigos importantes que foram escritos sobre o assunto. \n",
    "# Portanto, outra forma de verificar a nova pesquisa é verificar se ela inclui \n",
    "# resultados importantes específicos.\n",
    "\n",
    "important_titles <- c(\n",
    "  \"Collision detection for underwater ROV manipulator systems\"\n",
    ")\n",
    "\n",
    "data.frame(check_recall(important_titles, new_results[, \"title\"]))\n",
    "\n"
   ]
  },
  {
   "cell_type": "code",
   "execution_count": null,
   "metadata": {
    "vscode": {
     "languageId": "r"
    }
   },
   "outputs": [],
   "source": [
    "library(revtools)\n",
    "\n",
    "#Mudar a pasta do arquivo \n",
    "data <- read_bibliography(\"~/Desktop/Document/revtools/scopusfinal_example.bib\")\n",
    "View(data) # Vê o dado previamente\n",
    "\n",
    "#Quando terminar irá salvar um arquivo no formato .csv na raiz do sistema\n",
    "result <- screen_abstracts(data)\n",
    "\n",
    "#Lê os resultados\n",
    "assigned.dat <- read_bibliography(\"~/Desktop/Document/revtools/revtools_filtred.csv\")\n",
    "\n",
    "View(assigned.dat)\n",
    "\n",
    "# Seleciona os resultados e cria um arquivo no formato .bib na raiz do sistema\n",
    "screened.dat.YES = subset(assigned.dat,  screened_abstracts ==\"selected\")\n",
    "write_bibliography(screened.dat.YES, \"otimize_file.bib\", format = \"bib\")"
   ]
  },
  {
   "cell_type": "markdown",
   "metadata": {},
   "source": [
    "## <span style=\"color:cyan\">O ciclo IMPACTO</span>"
   ]
  },
  {
   "cell_type": "code",
   "execution_count": null,
   "metadata": {
    "vscode": {
     "languageId": "r"
    }
   },
   "outputs": [],
   "source": [
    "library(bibliometrix)\n",
    "biblioshiny()"
   ]
  },
  {
   "cell_type": "markdown",
   "metadata": {},
   "source": [
    "## <span style=\"color:cyan\">O ciclo PRODUÇÃO</span>"
   ]
  },
  {
   "cell_type": "markdown",
   "metadata": {},
   "source": [
    "Leitura dos artigos\n",
    "Análise e anotações no mendeley\n",
    "Construção do mapa conceitual da pesquisa\n",
    "Elaboração do documento do estudo do estado da arte"
   ]
  },
  {
   "cell_type": "code",
   "execution_count": null,
   "metadata": {
    "vscode": {
     "languageId": "r"
    }
   },
   "outputs": [],
   "source": [
    "# ggplot2 examples\n",
    "library(ggplot2) "
   ]
  },
  {
   "cell_type": "code",
   "execution_count": null,
   "metadata": {
    "vscode": {
     "languageId": "r"
    }
   },
   "outputs": [],
   "source": [
    "# create factors with value labels \n",
    "mtcars$gear <- factor(mtcars$gear,levels=c(3,4,5),\n",
    "  \tlabels=c(\"3gears\",\"4gears\",\"5gears\")) \n",
    "mtcars$am <- factor(mtcars$am,levels=c(0,1),\n",
    "  \tlabels=c(\"Automatic\",\"Manual\")) \n",
    "mtcars$cyl <- factor(mtcars$cyl,levels=c(4,6,8),\n",
    "   labels=c(\"4cyl\",\"6cyl\",\"8cyl\")) "
   ]
  },
  {
   "cell_type": "code",
   "execution_count": null,
   "metadata": {
    "vscode": {
     "languageId": "r"
    }
   },
   "outputs": [],
   "source": [
    "# Kernel density plots for mpg\n",
    "# grouped by number of gears (indicated by color)\n",
    "qplot(mpg, data=mtcars, geom=\"density\", fill=gear, alpha=I(.5), \n",
    "   main=\"Distribution of Gas Milage\", xlab=\"Miles Per Gallon\", \n",
    "   ylab=\"Density\")"
   ]
  },
  {
   "cell_type": "code",
   "execution_count": null,
   "metadata": {
    "vscode": {
     "languageId": "r"
    }
   },
   "outputs": [],
   "source": [
    "# Scatterplot of mpg vs. hp for each combination of gears and cylinders\n",
    "# in each facet, transmittion type is represented by shape and color\n",
    "qplot(hp, mpg, data=mtcars, shape=am, color=am, \n",
    "   facets=gear~cyl, size=I(3),\n",
    "   xlab=\"Horsepower\", ylab=\"Miles per Gallon\") "
   ]
  },
  {
   "cell_type": "code",
   "execution_count": null,
   "metadata": {
    "vscode": {
     "languageId": "r"
    }
   },
   "outputs": [],
   "source": [
    "# Separate regressions of mpg on weight for each number of cylinders\n",
    "qplot(wt, mpg, data=mtcars, geom=c(\"point\", \"smooth\"), \n",
    "   method=\"lm\", formula=y~x, color=cyl, \n",
    "   main=\"Regression of MPG on Weight\", \n",
    "   xlab=\"Weight\", ylab=\"Miles per Gallon\")"
   ]
  },
  {
   "cell_type": "code",
   "execution_count": null,
   "metadata": {
    "vscode": {
     "languageId": "r"
    }
   },
   "outputs": [],
   "source": [
    "# Boxplots of mpg by number of gears \n",
    "# observations (points) are overlayed and jittered\n",
    "qplot(gear, mpg, data=mtcars, geom=c(\"boxplot\", \"jitter\"), \n",
    "   fill=gear, main=\"Mileage by Gear Number\",\n",
    "   xlab=\"\", ylab=\"Miles per Gallon\")"
   ]
  },
  {
   "cell_type": "code",
   "execution_count": null,
   "metadata": {
    "vscode": {
     "languageId": "r"
    }
   },
   "outputs": [],
   "source": []
  }
 ],
 "metadata": {
  "interpreter": {
   "hash": "31f2aee4e71d21fbe5cf8b01ff0e069b9275f58929596ceb00d14d90e3e16cd6"
  },
  "kernelspec": {
   "display_name": "R",
   "language": "R",
   "name": "ir"
  },
  "language_info": {
   "codemirror_mode": "r",
   "file_extension": ".r",
   "mimetype": "text/x-r-source",
   "name": "R",
   "pygments_lexer": "r",
   "version": "4.2.0"
  }
 },
 "nbformat": 4,
 "nbformat_minor": 2
}
